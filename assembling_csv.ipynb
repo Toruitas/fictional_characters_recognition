{
 "cells": [
  {
   "cell_type": "code",
   "execution_count": 5,
   "metadata": {},
   "outputs": [],
   "source": [
    "# assembling the CSV the lazy/smart way\n",
    "# https://www.mariowiki.com/List_of_characters"
   ]
  },
  {
   "cell_type": "code",
   "execution_count": 3,
   "metadata": {},
   "outputs": [],
   "source": [
    "# next time start with koopa \n",
    "# fcc \"nintendo_characters1/koopa\" "
   ]
  },
  {
   "cell_type": "code",
   "execution_count": 4,
   "metadata": {},
   "outputs": [],
   "source": [
    "# for folder in data, publisher = pub_dirname\n",
    "# for folder in nintendo, if .clean in char_dirname, dirname= name.split(\".\")[0]\n",
    "# for file in folder, filename = filename (relpath), character = dirname, "
   ]
  },
  {
   "cell_type": "code",
   "execution_count": 23,
   "metadata": {},
   "outputs": [],
   "source": [
    "import csv\n",
    "import os\n",
    "from pathlib import Path"
   ]
  },
  {
   "cell_type": "code",
   "execution_count": 27,
   "metadata": {},
   "outputs": [
    {
     "data": {
      "text/plain": [
       "'data'"
      ]
     },
     "execution_count": 27,
     "metadata": {},
     "output_type": "execute_result"
    }
   ],
   "source": [
    "root_dir = Path('./data')\n",
    "root_dir.name"
   ]
  },
  {
   "cell_type": "code",
   "execution_count": 45,
   "metadata": {},
   "outputs": [],
   "source": [
    "with open('characters_data.csv','w') as csvfile:\n",
    "    character_writer = csv.writer(csvfile, delimiter=\",\")\n",
    "    character_writer.writerow(['filename','character','origin','game','gender','publisher'])\n",
    "    \n",
    "    for pubdir in root_dir.iterdir():\n",
    "        for chardir in pubdir.iterdir():\n",
    "            publisher = pubdir.name\n",
    "            if chardir.is_dir() and \".clean\" in chardir.name:\n",
    "                character = chardir.name.split('.')[0]\n",
    "#                 print(\"{} publishes {}\".format(publisher, character))\n",
    "                for image in chardir.iterdir():\n",
    "                    img_path = image\n",
    "                    character_writer.writerow([img_path,character,'','','',publisher])"
   ]
  },
  {
   "cell_type": "code",
   "execution_count": null,
   "metadata": {},
   "outputs": [],
   "source": []
  }
 ],
 "metadata": {
  "kernelspec": {
   "display_name": "Python 3",
   "language": "python",
   "name": "python3"
  },
  "language_info": {
   "codemirror_mode": {
    "name": "ipython",
    "version": 3
   },
   "file_extension": ".py",
   "mimetype": "text/x-python",
   "name": "python",
   "nbconvert_exporter": "python",
   "pygments_lexer": "ipython3",
   "version": "3.7.2"
  }
 },
 "nbformat": 4,
 "nbformat_minor": 2
}
